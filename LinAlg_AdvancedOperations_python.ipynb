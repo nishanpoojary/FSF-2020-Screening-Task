{
 "cells": [
  {
   "cell_type": "markdown",
   "metadata": {},
   "source": [
    "# Basics"
   ]
  },
  {
   "cell_type": "markdown",
   "metadata": {},
   "source": [
    "## Dot Product\n",
    "We can compute the dot product between two vectors using np.dot."
   ]
  },
  {
   "cell_type": "code",
   "execution_count": null,
   "metadata": {},
   "outputs": [],
   "source": [
    "import numpy as np\n",
    "import numpy.linalg as la"
   ]
  },
  {
   "cell_type": "code",
   "execution_count": null,
   "metadata": {},
   "outputs": [],
   "source": [
    "x = np.array([3,2,1])\n",
    "y = np.array([4,5,6])\n",
    "np.dot(x, y)"
   ]
  },
  {
   "cell_type": "markdown",
   "metadata": {},
   "source": [
    "We can compute the product of two matrices or a matrix and a vector product using the @ syntax."
   ]
  },
  {
   "cell_type": "code",
   "execution_count": null,
   "metadata": {},
   "outputs": [],
   "source": [
    "A = np.eye(3) #Create an identity matrix with np.eye\n",
    "B = np.random.randn(3,3)\n",
    "x = np.array([1,2,3])"
   ]
  },
  {
   "cell_type": "markdown",
   "metadata": {},
   "source": [
    "## Product"
   ]
  },
  {
   "cell_type": "code",
   "execution_count": null,
   "metadata": {},
   "outputs": [],
   "source": [
    "#The product of two matrices.\n",
    "A @ B"
   ]
  },
  {
   "cell_type": "code",
   "execution_count": null,
   "metadata": {},
   "outputs": [],
   "source": [
    "#The product of a matrix and a vector.\n",
    "A @ x"
   ]
  },
  {
   "cell_type": "markdown",
   "metadata": {},
   "source": [
    "## Determinant\n",
    "Determinant of a matrix can be find using the numpy.linalg.det(Matrix) of the numpy.linalg package."
   ]
  },
  {
   "cell_type": "code",
   "execution_count": null,
   "metadata": {},
   "outputs": [],
   "source": [
    "#This computes the determinant.\n",
    "la.det(A)"
   ]
  },
  {
   "cell_type": "markdown",
   "metadata": {},
   "source": [
    "# Numerical Computation\n",
    "\n",
    "## Part 1 "
   ]
  },
  {
   "cell_type": "markdown",
   "metadata": {},
   "source": [
    "# Advanced Linear Algebra Operations"
   ]
  },
  {
   "cell_type": "markdown",
   "metadata": {},
   "source": [
    "# Special Matrices\n",
    "\n",
    "## Instructions\n",
    "\n",
    "Test for the singular matrix.\n",
    "\n",
    "If the matrix is singular:\n",
    "- It's Inverse does not exists, i.e. it's determinant is zero.\n",
    "\n",
    "We will check through our two methods:\n",
    "1. Converting a matrix into echelon form, and test if if it fails by leaving zeros that can't be removed on the leading diagonal.\n",
    "- Checking it's determinant.\n"
   ]
  },
  {
   "cell_type": "markdown",
   "metadata": {},
   "source": [
    "## Example\n",
    "In this exercise we will test whether a given matrix is singular."
   ]
  },
  {
   "cell_type": "markdown",
   "metadata": {},
   "source": [
    "### First Method"
   ]
  },
  {
   "cell_type": "code",
   "execution_count": null,
   "metadata": {},
   "outputs": [],
   "source": [
    "#Declarations.\n",
    "#Run this cell first to load all the dependencies.\n",
    "import numpy as np\n",
    "import numpy.linalg as la"
   ]
  },
  {
   "cell_type": "code",
   "execution_count": null,
   "metadata": {},
   "outputs": [],
   "source": [
    "def isSingular(A):\n",
    "    B = np.array(A, dtype = float)#Makes a Copy of Input Matrix, as we are going to alter its value.\n",
    "    \n",
    "    try:\n",
    "        fixZerothRow(B)\n",
    "        fixFirstRow(B)\n",
    "        fixSecondRow(B)\n",
    "        fixThirdRow(B)\n",
    "    except matrixIsSingular:\n",
    "        return True #Returing matrix is singular.\n",
    "    return False #Returing matrix is not singular.\n",
    "\n",
    "#This is our error flag.\n",
    "class matrixIsSingular(Exception):pass\n",
    "\n",
    "#For Zeroth Row, we want its first element to be one.\n",
    "#For that we divide the entire row by the value of A[0,0].\n",
    "#Before dividing we check whether the value of A[0,0] is equal to zero.\n",
    "#If it's not equal the we add below rows to the A[0].\n",
    "def fixZerothRow(A):\n",
    "    if A[0,0] == 0: #Test.\n",
    "        A[0] = A[0] + A[1]\n",
    "    if A[0,0] == 0:\n",
    "        A[0] = A[0] + A[2]\n",
    "    if A[0,0] == 0:\n",
    "        A[0] = A[0] + A[3]\n",
    "    if A[0,0] == 0:\n",
    "        raise matrixIsSingular()\n",
    "    \n",
    "    #Finally, set the diagonal element to one by dividing the entire row by that element.\n",
    "    A[0] = A[0]/A[0,0]\n",
    "    \n",
    "    return A #Returning matrix.\n",
    "\n",
    "def fixFirstRow(A):\n",
    "    A[1] = A[1] - A[1,0]*A[0]\n",
    "    \n",
    "    if A[1,1] == 0:\n",
    "        A[1] = A[1] + A[2]\n",
    "    if A[1,1] == 0:\n",
    "        A[1] = A[1] + A[3]\n",
    "    if A[1,1] == 0:\n",
    "        raise matrixIsSingular()\n",
    "    \n",
    "    #Finally, set the diagonal element to one by dividing the entire row by that element.\n",
    "    A[1] = A[1]/A[1,1]\n",
    "    \n",
    "    return A #Returning matrix.\n",
    "\n",
    "#Similarly the above process repeats in the following below rows.\n",
    "def fixSecondRow(A):\n",
    "    A[2] = A[2] - A[2,0]*A[0]\n",
    "    A[2] = A[2] - A[2,1]*A[1]\n",
    "    \n",
    "    if A[2,2] == 0:\n",
    "        A[2] = A[2] + A[3]\n",
    "    if A[2,2] == 0:\n",
    "        raise matrixIsSingular()\n",
    "    \n",
    "    #Finally, set the diagonal element to one by dividing the entire row by that element.\n",
    "    A[2] = A[2]/A[2,2]\n",
    "    \n",
    "    return A #Returning matrix.\n",
    "\n",
    "def fixThirdRow(A):\n",
    "    A[3] = A[3] - A[3,0]*A[0]\n",
    "    A[3] = A[3] - A[3,1]*A[1]\n",
    "    A[3] = A[3] - A[3,2]*A[2]\n",
    "    \n",
    "    if A[3,3] == 0:\n",
    "        raise matrixIsSingular()\n",
    "    \n",
    "    #Finally, set the diagonal element to one by dividing the entire row by that element.\n",
    "    A[3] = A[3]/A[3,3]\n",
    "    \n",
    "    return A #Returning matrix.       "
   ]
  },
  {
   "cell_type": "markdown",
   "metadata": {},
   "source": [
    "### Second Method"
   ]
  },
  {
   "cell_type": "code",
   "execution_count": null,
   "metadata": {},
   "outputs": [],
   "source": [
    "def checkSingularThroughDeterminant(A):\n",
    "    if(la.det(A))==0.0: #Check if the determinant is equal to zero.\n",
    "        return True\n",
    "    else:\n",
    "        return False"
   ]
  },
  {
   "cell_type": "code",
   "execution_count": null,
   "metadata": {},
   "outputs": [],
   "source": [
    "#Calculates Determinant and Inverse.\n",
    "def calcDeterminantAndInverse(A):\n",
    "    return la.det(A), la.inv(A) #Calculates and returns the Determinant of matrix."
   ]
  },
  {
   "cell_type": "code",
   "execution_count": null,
   "metadata": {},
   "outputs": [],
   "source": [
    "A = np.array([[2,0,0,0],\n",
    "              [0,3,0,0],\n",
    "              [0,0,4,4],\n",
    "              [0,0,5,5]], dtype = float)\n",
    "\n",
    "if(isSingular(A)):\n",
    "    print(\"The Given Matrix is Singular \\n i.e.It's inverse does not exists\")\n",
    "else:\n",
    "    Det, Inv =  calcDeterminantAndInverse(A)\n",
    "    print(\"The Given Matrix is Non Singular \\n i.e.It's inverse exists\")\n",
    "    print(\"\\n It's Determinant is \"+ str(Det) +\" \\n \\n Its inverse is \\n\"+ str(Inv))"
   ]
  },
  {
   "cell_type": "code",
   "execution_count": null,
   "metadata": {},
   "outputs": [],
   "source": [
    "A = np.array([[2,0,0,0],\n",
    "              [0,3,0,0],\n",
    "              [0,0,4,4],\n",
    "              [0,0,5,5]], dtype = float)\n",
    "\n",
    "if(checkSingularThroughDeterminant(A)):\n",
    "    print(\"The Given Matrix is Singular \\n i.e.It's inverse does not exists\")\n",
    "else:\n",
    "    Det, Inv =  calcDeterminantAndInverse(A)\n",
    "    print(\"The Given Matrix is Non Singular \\n i.e.It's inverse exists\")\n",
    "    print(\"\\n It's Determinant is \"+ str(Det) +\" \\n \\n Its inverse is \\n\"+ str(Inv))"
   ]
  },
  {
   "cell_type": "code",
   "execution_count": null,
   "metadata": {},
   "outputs": [],
   "source": [
    "A = np.array([[2,0,0,0],\n",
    "              [0,3,0,0],\n",
    "              [0,0,4,4],\n",
    "              [0,0,0,5]], dtype = float)\n",
    "\n",
    "if(isSingular(A)):\n",
    "    print(\"The Given Matrix is Singular \\n i.e.It's inverse does not exists\")\n",
    "else:\n",
    "    Det, Inv =  calcDeterminantAndInverse(A)\n",
    "    print(\"The Given Matrix is Non Singular \\n i.e.It's inverse exists\")\n",
    "    print(\"\\n It's Determinant is \"+ str(Det) +\" \\n \\n Its inverse is \\n\"+ str(Inv))"
   ]
  },
  {
   "cell_type": "code",
   "execution_count": null,
   "metadata": {},
   "outputs": [],
   "source": [
    "A = np.array([[2,0,0,0],\n",
    "              [0,3,0,0],\n",
    "              [0,0,4,4],\n",
    "              [0,0,0,5]], dtype = float)\n",
    "\n",
    "if(checkSingularThroughDeterminant(A)):\n",
    "    print(\"The Given Matrix is Singular \\n i.e.It's inverse does not exists\")\n",
    "else:\n",
    "    Det, Inv =  calcDeterminantAndInverse(A)\n",
    "    print(\"The Given Matrix is Non Singular \\n i.e.It's inverse exists\")\n",
    "    print(\"\\n It's Determinant is \"+ str(Det) +\" \\n \\n Its inverse is \\n\"+ str(Inv))"
   ]
  },
  {
   "cell_type": "markdown",
   "metadata": {},
   "source": [
    "# Eigen Values and Eigen Vectors\n",
    "\n",
    "## Introduction\n",
    "\n",
    "Eigen is usefully translated from German meaning characteristics.\n",
    "\n",
    "Consider the below image having three vectors.\n",
    "\n",
    "\n",
    "![title](img\\eigenvectors.png)\n",
    "\n",
    "We apply the transformation which is scaling with factor 2 in the horizontal direction and 0.5 in the vertical direction.\n",
    "\n",
    "A vector $\\vec{v}$ is then scaled by applying this transformation as $\\vec{v}\\prime = A\\vec{v}$. \n",
    "\n",
    "\n",
    "The above figure shows that the direction of some vectors (in red) not affected by the linear transformation. These vectors are called $eigenvectors$ of the transformation.\n",
    "\n",
    "An eigenvector is a vector whose direction remains unchanged when a linear transformation is applied to it. \n",
    "\n",
    "$A=\\begin{bmatrix} 2 & 0 \\\\ 0 & \\frac{1}{2} \\end{bmatrix}$.\n",
    "\n",
    "\n",
    "In general, the eigenvector $\\vec{v}$ of a matrix A is the vector for which the following holds:\n",
    "\n",
    " \\begin{equation*} A \\vec{v} = \\lambda \\vec{v} \\end{equation*}\n",
    "\n",
    "where $\\lambda$ is a scalar value called the $eigenvalue$.\n",
    "\n",
    "## Application\n",
    "1. Stability of a system.\n",
    "- In Electronics: RLC circuits.\n",
    "- Famous Google's Page Rank Algorithm.\n",
    "- Communication systems, etc.\n",
    "\n",
    "\n"
   ]
  },
  {
   "cell_type": "markdown",
   "metadata": {},
   "source": [
    "## Example\n",
    "\n",
    "In this exercise we will find the eigen values and eigen vectors of the matrix $ M = \\begin{bmatrix}\n",
    "\\frac{3}{2} & -1 \\\\\n",
    "\\frac{-1}{2} & \\frac{1}{2}\n",
    "\\end{bmatrix}$."
   ]
  },
  {
   "cell_type": "code",
   "execution_count": null,
   "metadata": {},
   "outputs": [],
   "source": [
    "#Declarations.\n",
    "#Run this cell first to load all the dependencies.\n",
    "import numpy as np\n",
    "import numpy.linalg as la\n",
    "import matplotlib.pyplot as plt"
   ]
  },
  {
   "cell_type": "code",
   "execution_count": null,
   "metadata": {},
   "outputs": [],
   "source": [
    "#Function will plot the Vectors.\n",
    "def plot(A,B):\n",
    "    Vec = np.array(A, dtype = float) #Original Vector Sets.\n",
    "    ONor = np.array(B, dtype = float) #Orthonormal Vector Sets.\n",
    "    \n",
    "    #Origin Points.\n",
    "    X = np.array((0))\n",
    "    Y= np.array((0))\n",
    "    \n",
    "    #First Vector.\n",
    "    U = A[0,0]\n",
    "    V = A[1,0]\n",
    "    \n",
    "    q1 = plt.quiver(X, Y, U, V,color='r',units='xy' ,scale=1)#Drawing First Vector.\n",
    "    \n",
    "    #Limits For Graph.\n",
    "    plt.xlim(-5,5)\n",
    "    plt.ylim(-5,5)\n",
    "    plt.quiverkey(q1, 3, 3, 2, 'Vector 1', coordinates='data')\n",
    "    \n",
    "    #First Eigen Vector.\n",
    "    U = B[0,0]\n",
    "    V = B[1,0]\n",
    "    \n",
    "    q2 = plt.quiver(X, Y, U, V,color='b',units='xy' ,scale=1)#Drawing First Eigen Vector.\n",
    "    plt.xlim(-5,5)\n",
    "    plt.ylim(-5,5)\n",
    "    plt.quiverkey(q2, 3, 1, 2, 'Eigen Vector 1', coordinates='data')\n",
    "\n",
    "    #Second Vector.\n",
    "    U = A[0,1]\n",
    "    V = A[1,1]\n",
    "    \n",
    "    q3 = plt.quiver(X, Y, U, V,color='y',units='xy' ,scale=1)#Drawing Second Vector.\n",
    "    plt.xlim(-5,5)\n",
    "    plt.ylim(-5,5)\n",
    "    \n",
    "    plt.quiverkey(q3, 3, -1, 2, 'Vector 2', coordinates='data')\n",
    "    \n",
    "    #Second Eigen Vector.\n",
    "    U = B[0,1]\n",
    "    V = B[1,1]\n",
    "    \n",
    "    q4 = plt.quiver(X, Y, U, V,color='g',units='xy' ,scale=1)#Drawing Second Eigen Vector.\n",
    "    plt.xlim(-5,5)\n",
    "    plt.ylim(-5,5)\n",
    "    \n",
    "    plt.quiverkey(q4, 3, -3, 2, 'Eigen Vector 2', coordinates='data')\n",
    "    \n",
    "    #Label.\n",
    "    plt.legend(bbox_to_anchor=(2, 1.05), handles = [q1,q2,q3,q4], \n",
    "           labels  = [A[:,0], B[:,0], A[:,1], B[:,1]])\n",
    "    \n",
    "    \n",
    "    plt.xlabel('X axis')\n",
    "    plt.ylabel('Y axis')\n",
    "    plt.title('Plotting Eigen Vectors')\n",
    "    plt.show()\n"
   ]
  },
  {
   "cell_type": "code",
   "execution_count": null,
   "metadata": {},
   "outputs": [],
   "source": [
    "M = np.array([[3/2, -1],[-1/2, 1/2]])#Matrix to find eigen value and eigen vectors.\n",
    "#Feel Free to try with different Matrix.\n",
    "\n",
    "#Calculation of eigenvalue and eigenvector.\n",
    "evals, evecs = la.eig(M)\n",
    "\n",
    "print(\"The eigenvalues are\\n\", evals)\n",
    "print(\"The eigenvectors are\\n\", evecs)\n",
    "\n",
    "plot(M,evecs)\n",
    "\n"
   ]
  },
  {
   "cell_type": "markdown",
   "metadata": {},
   "source": [
    "# Diagonalization\n",
    "\n",
    "## Introduction\n",
    "\n",
    "The process of diagonalization involves taking a matrix and writing it as the product of the matrices.\n",
    "Let us have write matrix A as,\n",
    "\n",
    "A = $X^{-1}DX$\n",
    "\n",
    "where,\n",
    " D $\\rightarrow$ Diagonal Matrix\n",
    "\n",
    "If we do,\n",
    "$X^{-1}AX$ = $X^{-1}XDX^{-1}X$,\n",
    "\n",
    "we get,\n",
    "\n",
    "$\\therefore X^{-1}AX$ = $D$\n",
    "\n",
    "Through this way we get diagonal matrix D.\n",
    "\n",
    "For this proces to work,\n",
    "1. A must have unique Eigen values.\n",
    "- If A has duplicate eigen values then they must have linearly independent eigen vectors.\n",
    "\n",
    "The matrix D contains values at its diagonal, where this diagonal elements are made up of eigen values of A while the matrix $X$ is made up of eigen vectors of A.\n",
    "\n",
    "A $\\rightarrow$ n$\\times$n matrix,$   D =\n",
    "  \\begin{bmatrix}\n",
    "    \\lambda_{1} & & \\\\\n",
    "    & \\ddots & \\\\\n",
    "    & & \\lambda_{n}\n",
    "  \\end{bmatrix}  $ and $  X =\n",
    "  \\begin{bmatrix}\n",
    "    \\vec X_1 & \\vec X_2 & .... & \\vec X_n \\\\\n",
    "  \\end{bmatrix}$\n",
    "\n"
   ]
  },
  {
   "cell_type": "markdown",
   "metadata": {},
   "source": [
    "## Example\n",
    "\n",
    "In this exercise we will diagonalize the matrix $ A = \\begin{bmatrix}\n",
    "-3 & -4 \\\\\n",
    "5 & 6\n",
    "\\end{bmatrix}$."
   ]
  },
  {
   "cell_type": "code",
   "execution_count": null,
   "metadata": {},
   "outputs": [],
   "source": [
    "def diagonalize(A):\n",
    "    \n",
    "    vals,vecs = la.eig(A)\n",
    "    D = np.diag(vals)\n",
    "    return D,vecs"
   ]
  },
  {
   "cell_type": "code",
   "execution_count": null,
   "metadata": {},
   "outputs": [],
   "source": [
    "A = np.array([[-3,-4],[5, 6]])\n",
    "D,X = diagonalize(A)\n",
    "print('Diagonal matrix is')\n",
    "print(D)\n",
    "print('X Matrix is')\n",
    "print(X)"
   ]
  },
  {
   "cell_type": "markdown",
   "metadata": {},
   "source": [
    "# Single Value Decomposition\n",
    "Single Value Decomposition (SVD) is decomposing vectors onto orthogonal axes.\n",
    "\n",
    "When the vector $\\vec a$ can be decomposed to get 3 different information:\n",
    "\n",
    "1. The directions of projection — The unit vectors (v₁ and v₂) representing the directions onto which we project.\n",
    "\n",
    "- The lengths of projection ($s_{a1}$ and $s_{a2}$) — Gives information about how much the vector is contained in each direction of projection.\n",
    "\n",
    "- The vectors of projection ($p_{a1}$ and $p_{a2}$) — Used to reconstruct the original vector $\\vec a$ by adding them together, and verify that $p_{a1} = s_{a1}\\times v_1$ and $p_{a2} = s_{a2}\\times v_2$. \n",
    "\n",
    "- The vectors of projection are redundant, as they can be deduced from the former 2 pieces.\n",
    "\n",
    "### Conclusion:\n",
    "Any vector can be expressed in terms of:\n",
    "1. Projection directions unit vectors (v₁, v₂, …).\n",
    "2. The lengths of projections onto them (sₐ₁, sₐ₂, …).\n",
    "\n",
    "### Applications:\n",
    "1. Soliving Simultaneous equations.\n",
    "- Data Compression.\n",
    "\n",
    "## Explanation \n",
    "\n",
    "Singular value decomposition is a method of decomposing a matrix into three other matrices:\n",
    "\n",
    "$C = USV^{T}$\n",
    "\n",
    "Where:\n",
    "\n",
    "C $\\rightarrow$ m × n Matrix,\n",
    "\n",
    "U $\\rightarrow$ m × n Orthogonal matrix,\n",
    "\n",
    "S $\\rightarrow$ n × n Diagonal matrix with non negative entries,\n",
    "\n",
    "V $\\rightarrow$ n × n Orthogonal matrix\n",
    "\n",
    "We need to use these two relations to find value of U,V ans S:\n",
    "1. $C^TC = V S^TSV^T$\n",
    "- $CV = US$\n",
    "                                                        \n",
    "### Steps:\n",
    "1. From the first relation, we get the value of $V$ as it's a matrix containing eigen vectors of $C^TC$ and S as it's a diagonal matrix containing eigen values of $C^TC$ as its's entries.\n",
    "- Then we get the value of $U$ from the second expression."
   ]
  },
  {
   "cell_type": "markdown",
   "metadata": {},
   "source": [
    "## Example\n",
    "\n",
    "In this exercise we will find the single value decomposition of matrix $ C = \\begin{bmatrix}\n",
    "5 & -1 \\\\\n",
    "5 & 7\n",
    "\\end{bmatrix}$."
   ]
  },
  {
   "cell_type": "code",
   "execution_count": null,
   "metadata": {},
   "outputs": [],
   "source": [
    "#Declarations.\n",
    "#Run this cell first to load all the dependencies.\n",
    "import numpy as np\n",
    "import numpy.linalg as la"
   ]
  },
  {
   "cell_type": "code",
   "execution_count": null,
   "metadata": {},
   "outputs": [],
   "source": [
    "def SVD(A):\n",
    "    AT_A = np.transpose(A)@A\n",
    "    u, s, v = np.linalg.svd(A, full_matrices=False)\n",
    "    \n",
    "    return u,s,v,AT_A"
   ]
  },
  {
   "cell_type": "code",
   "execution_count": null,
   "metadata": {},
   "outputs": [],
   "source": [
    "C = np.array([[5,-1],\n",
    "              [5,7]])\n",
    "U,S,V,CT_C = SVD(C)\n",
    "print('The U Matrix is')\n",
    "print(U)\n",
    "print('having dimensions ' +str(U.shape[0])+ ' times '+str(U.shape[1]))\n",
    "print('\\n')\n",
    "\n",
    "print('The S Matrix is')\n",
    "print(S)\n",
    "print('having dimensions ' +str(S.shape))\n",
    "print('\\n')\n",
    "\n",
    "print('The V Matrix is')\n",
    "print(V)\n",
    "print('having dimensions ' +str(V.shape[0])+ ' times '+str(V.shape[1]))\n",
    "print('\\n')\n",
    "\n",
    "print('The C^T C Matrix is')\n",
    "print(CT_C)\n",
    "print('having dimensions ' +str(CT_C.shape[0])+ ' times '+str(CT_C.shape[1]))\n",
    "print('\\n')\n"
   ]
  },
  {
   "cell_type": "markdown",
   "metadata": {},
   "source": [
    "# Projection of Vectors\n",
    "\n",
    "The projection of a vector $\\overrightarrow{u}$ onto another vector $\\overrightarrow{v}$ is given as\n",
    "  $proj_{\\vec{v}}({\\vec{u}}) = \\frac{\\vec{u}.\\vec{v}}{||\\vec{v}||^{2}} \\vec{v}$  "
   ]
  },
  {
   "cell_type": "markdown",
   "metadata": {},
   "source": [
    "## Example\n",
    "\n",
    "In this exercise we will project the vector $\\vec u$ on $\\vec v$ and plot them."
   ]
  },
  {
   "cell_type": "code",
   "execution_count": null,
   "metadata": {},
   "outputs": [],
   "source": [
    "#Declarations.\n",
    "#Run this cell first to load all the dependencies.\n",
    "import numpy as np\n",
    "import numpy.linalg as la\n",
    "import matplotlib.pyplot as plt"
   ]
  },
  {
   "cell_type": "code",
   "execution_count": null,
   "metadata": {},
   "outputs": [],
   "source": [
    "#Function will plot the Vectors.\n",
    "def plot(A,B,P):\n",
    "    \n",
    "    #Origin Points.\n",
    "    X = np.array((0))\n",
    "    Y= np.array((0))\n",
    "    \n",
    "    #First Vector.\n",
    "    U = A[0]\n",
    "    V = A[1]\n",
    "    \n",
    "    q1 = plt.quiver(X, Y, U, V,color='r',units='xy' ,scale=1)#Drawing First Vector.\n",
    "    \n",
    "    #Limits For Graph.\n",
    "    plt.xlim(-6,6)\n",
    "    plt.ylim(-6,6)\n",
    "    plt.quiverkey(q1, 3, 1, 2, 'U', coordinates='data')\n",
    "    \n",
    "    #Second Vector.\n",
    "    U = B[0]\n",
    "    V = B[1]\n",
    "    \n",
    "    q2 = plt.quiver(X, Y, U, V,color='b',units='xy' ,scale=1)#Drawing First Eigen Vector.\n",
    "    plt.xlim(-6,6)\n",
    "    plt.ylim(-6,6)\n",
    "    plt.quiverkey(q2, 3, -1, 2, 'V', coordinates='data')\n",
    "\n",
    "    #Projection.\n",
    "    U = P[0]\n",
    "    V = P[1]\n",
    "    \n",
    "    q3 = plt.quiver(X, Y, U, V,color='y',units='xy' ,scale=1)#Drawing Second Vector.\n",
    "    plt.xlim(-6,6)\n",
    "    plt.ylim(-6,6)\n",
    "    \n",
    "    plt.quiverkey(q3, 3, -3, 2, 'Projection of U on V', coordinates='data')\n",
    "    \n",
    "    \n",
    "    \n",
    "    #Label.\n",
    "    plt.legend(bbox_to_anchor=(2, 1.05), handles = [q1,q2,q3], \n",
    "           labels  = [A, B, P])\n",
    "    \n",
    "    \n",
    "    plt.xlabel('X axis')\n",
    "    plt.ylabel('Y axis')\n",
    "    plt.title('Projection of U on V')\n",
    "    plt.show()\n"
   ]
  },
  {
   "cell_type": "code",
   "execution_count": null,
   "metadata": {},
   "outputs": [],
   "source": [
    "def projection(u,v):\n",
    "    Norm = np.sqrt(sum(v**2))     \n",
    "   \n",
    "    #Projection a vector onto another vector \n",
    "    # find dot product using np.dot() \n",
    "    projUonV = (np.dot(u, v)/Norm**2)*v \n",
    "    \n",
    "    return projUonV\n"
   ]
  },
  {
   "cell_type": "code",
   "execution_count": null,
   "metadata": {},
   "outputs": [],
   "source": [
    "u = np.array([1, 4])  \n",
    "v = np.array([3, 4]) \n",
    "\n",
    "projUonV = projection(u,v)\n",
    "print('The Projection of u on v is '+ str(projUonV))\n",
    "\n",
    "plot(u,v,projUonV)"
   ]
  },
  {
   "cell_type": "markdown",
   "metadata": {},
   "source": [
    "# Gram Schmidt Process\n",
    "\n",
    "A set of unit length basis vectors that are all perpendicular to each other are called as **Orthonormal Basis Sets** and the matrix composed of them is called as **Orthogonal Matrix**.\n",
    "\n",
    "#### Gram Schmidt Process is the process of constructing **Orthonormal sets**.\n",
    "\n",
    "The Gram–Schmidt process works as follows:\n",
    "\n",
    " {\\begin{aligned}\\mathbf {u} _{1}&=\\mathbf {v} _{1},&\\mathbf {e} _{1}&={\\mathbf {u} _{1} \\over \\|\\mathbf {u} _{1}\\|}\\\\\\mathbf {u} _{2}&=\\mathbf {v} _{2}-(\\mathbf {v} _{2}\\mathbf {e} _{1})\\,(\\mathbf {e} _{1}),&\\mathbf {e} _{2}&={\\mathbf {u} _{2} \\over \\|\\mathbf {u} _{2}\\|}\\\\\\mathbf {u} _{3}&=\\mathbf {v} _{3}-(\\mathbf {v} _{3}\\mathbf {e} _{1})\\,(\\mathbf {e} _{1})-(\\mathbf {v} _{3}\\mathbf {e} _{2})\\,(\\mathbf {e} _{2}),&\\mathbf {e} _{3}&={\\mathbf {u} _{3} \\over \\|\\mathbf {u} _{3}\\|}\\\\\\\\&{}\\ \\ \\vdots &&{}\\ \\ \\vdots \\\\\\mathbf {u} _{k}&=\\mathbf {v} _{k}-\\sum _{j=1}^{k-1}\\mathrm {proj} _{\\mathbf {u} _{j}}\\,(\\mathbf {v} _{k}),&\\mathbf {e} _{k}&={\\mathbf {u} _{k} \\over \\|\\mathbf {u} _{k}\\|}.\\end{aligned}}\n",
    " \n",
    "### Conclusion \n",
    "Calculation of Orthonormal Sets make $A^{-1} \\cdot A$ easier."
   ]
  },
  {
   "cell_type": "markdown",
   "metadata": {},
   "source": [
    "## Example\n",
    "\n",
    "In this exercise we will perform the Gram Schmidt Process for 4 and n Basis Vectors."
   ]
  },
  {
   "cell_type": "code",
   "execution_count": null,
   "metadata": {},
   "outputs": [],
   "source": [
    "#Declarations.\n",
    "#Run this cell first to load all the dependencies.\n",
    "import numpy as np\n",
    "import numpy.linalg as la\n",
    "import matplotlib.pyplot as plt\n",
    "import matplotlib.patches as mpatches"
   ]
  },
  {
   "cell_type": "code",
   "execution_count": null,
   "metadata": {},
   "outputs": [],
   "source": [
    "smallNumber = 1e-14 #Declaring Very Small Number\n",
    "\n",
    "\n",
    "#Function will perform the Gram Schmidt Proces for 4 Basis Vectors.\n",
    "def getBasis4(A):\n",
    "    B = np.array(A, dtype = float) #Makes a Copy of Input Matrix, as we are going to alter its value.\n",
    "    \n",
    "    #We just have to normalize the zeroth vector.\n",
    "    B[:,0] = B[:,0]/la.norm(B[:,0])\n",
    "    \n",
    "    #For first vector we have to subtract any overlap with new zeroth vector.\n",
    "    B[:,1] = B[:,1] - (B[:,1]@B[:,0])*B[:,0]\n",
    "    \n",
    "    #If the vector is greater than smallNumber than,we normalize it. Otherwise we set the vector to zero. \n",
    "    if la.norm(B[:,1]) > smallNumber:\n",
    "        B[:,1] = B[:,1]/la.norm(B[:,1])\n",
    "    else:\n",
    "        B[:,1] = np.zeros_like(B[:,1])\n",
    "        \n",
    "    #Similarly,For second vector we have to subtract any overlap with new zeroth vector and new first vector.   \n",
    "    B[:,2] = B[:,2] - (B[:,2]@B[:,0])*B[:,0]\n",
    "    B[:,2] = B[:,2] - (B[:,2]@B[:,1])*B[:,1]\n",
    "    \n",
    "    #If the vector is greater than smallNumber than,we normalize it. Otherwise we set the vector to zero.\n",
    "    if la.norm(B[:,2]) > smallNumber:\n",
    "        B[:,2] = B[:,2]/la.norm(B[:,2])\n",
    "    else:\n",
    "        B[:,2] = np.zeros_like(B[:,2])\n",
    "        \n",
    "    #Similar Procedure followed    \n",
    "    B[:,3] = B[:,3] - (B[:,3]@B[:,0])*B[:,0]\n",
    "    B[:,3] = B[:,3] - (B[:,3]@B[:,1])*B[:,1]\n",
    "    B[:,3] = B[:,3] - (B[:,3]@B[:,2])*B[:,2]\n",
    "    \n",
    "    if la.norm(B[:,3]) > smallNumber:\n",
    "        B[:,3] = B[:,3]/la.norm(B[:,3])\n",
    "    else:\n",
    "        B[:,3] = np.zeros_like(B[:,3])\n",
    "    \n",
    "    #Finally, we return the results\n",
    "    return B\n",
    "\n",
    "#Function will perform the Gram Schmidt Proces for n Basis Vectors\n",
    "def getBasis(A):\n",
    "    B = np.array(A, dtype = float) #Makes a Copy of Input Matrix, as we are going to alter its value.\n",
    "    \n",
    "    #Loop over all vectors with label i. \n",
    "    for i in range(B.shape[1]):\n",
    "        #Loop over all previous vectors j to subtract. \n",
    "        for j in range(i):\n",
    "            #The Current Vector B[:,i] and the previous vector B[:,j].\n",
    "            B[:,i] = B[:,i] - (B[:,i]@B[:,j])*B[:,j]\n",
    "        \n",
    "        #If the vector is greater than smallNumber than,we normalize it. Otherwise we set the vector to zero. \n",
    "        if la.norm(B[:,i]) > smallNumber:\n",
    "            B[:,i] = B[:,i]/la.norm(B[:,i])\n",
    "        else:\n",
    "            B[:,i] = np.zeros_like(B[:,i])  \n",
    "            \n",
    "    #Finally, we return the results        \n",
    "    return B \n",
    "\n",
    "\n",
    "#Function will plot the Vectors.\n",
    "def plot(A,B):\n",
    "    Vec = np.array(A, dtype = float) #Original Vector Sets.\n",
    "    ONor = np.array(B, dtype = float) #Orthonormal Vector Sets.\n",
    "    \n",
    "    #Origin Points.\n",
    "    X = np.array((0))\n",
    "    Y= np.array((0))\n",
    "    \n",
    "    #First Vector.\n",
    "    U = A[0,0]\n",
    "    V = A[1,0]\n",
    "    \n",
    "    q1 = plt.quiver(X, Y, U, V,color='r',units='xy' ,scale=1)#Drawing First Vector.\n",
    "    \n",
    "    #Limits For Graph.\n",
    "    plt.xlim(-5,5)\n",
    "    plt.ylim(-5,5)\n",
    "    plt.quiverkey(q1, 3, 3, 2, 'Vector 1', coordinates='data')\n",
    "    \n",
    "    #First Orthonormal Vector.\n",
    "    U = B[0,0]\n",
    "    V = B[1,0]\n",
    "    \n",
    "    q2 = plt.quiver(X, Y, U, V,color='b',units='xy' ,scale=1)#Drawing First Orthonormal Vector.\n",
    "    plt.xlim(-5,5)\n",
    "    plt.ylim(-5,5)\n",
    "    plt.quiverkey(q2, 3, 1, 2, 'Orthonormal Vector 1', coordinates='data')\n",
    "\n",
    "    #Second Vector.\n",
    "    U = A[0,1]\n",
    "    V = A[1,1]\n",
    "    \n",
    "    q3 = plt.quiver(X, Y, U, V,color='y',units='xy' ,scale=1)#Drawing Second Vector.\n",
    "    plt.xlim(-5,5)\n",
    "    plt.ylim(-5,5)\n",
    "    \n",
    "    plt.quiverkey(q3, 3, -1, 2, 'Vector 2', coordinates='data')\n",
    "    \n",
    "    #Second Orthonormal Vector.\n",
    "    U = B[0,1]\n",
    "    V = B[1,1]\n",
    "    \n",
    "    q4 = plt.quiver(X, Y, U, V,color='g',units='xy' ,scale=1)#Drawing Second Orthonormal Vector.\n",
    "    plt.xlim(-5,5)\n",
    "    plt.ylim(-5,5)\n",
    "    \n",
    "    plt.quiverkey(q4, 3, -3, 2, 'Orthonormal Vector 2', coordinates='data')\n",
    "    \n",
    "    #Label.\n",
    "    plt.legend(bbox_to_anchor=(2, 1.05), handles = [q1,q2,q3,q4], \n",
    "           labels  = [A[:,0], B[:,0], A[:,1], B[:,1]])\n",
    "    \n",
    "    \n",
    "    plt.xlabel('X axis')\n",
    "    plt.ylabel('Y axis')\n",
    "    plt.title('Gram Schmidt Process')\n",
    "    plt.show()\n"
   ]
  },
  {
   "cell_type": "code",
   "execution_count": null,
   "metadata": {},
   "outputs": [],
   "source": [
    "Vector = np.array([[1,0,2,6],\n",
    "                   [0,1,8,2],\n",
    "                   [2,8,3,1],\n",
    "                   [1,-6,2,3]],dtype = float)\n",
    "\n",
    "#Calling Function that will perform the Gram Schmidt Process for 4 Basis Vectors.\n",
    "getBasis4(Vector)"
   ]
  },
  {
   "cell_type": "code",
   "execution_count": null,
   "metadata": {},
   "outputs": [],
   "source": [
    "Vector = np.array([[1,-1],\n",
    "                  [3,2]],dtype = float)\n",
    "\n",
    "#Calling Function that will perform the Gram Schmidt Process for n Basis Vectors.\n",
    "V = getBasis(Vector)\n",
    "\n",
    "#Callinfg Function to plot these vectors.\n",
    "plot(Vector,V)"
   ]
  },
  {
   "cell_type": "markdown",
   "metadata": {},
   "source": [
    "# Numerical Computation\n",
    "\n",
    "## Part 2"
   ]
  },
  {
   "cell_type": "markdown",
   "metadata": {},
   "source": [
    "# Change of Basis"
   ]
  },
  {
   "cell_type": "markdown",
   "metadata": {},
   "source": [
    "## Explanation\n",
    "Let us consider a vector $\\vec ourVector$ which is $\\begin{bmatrix}\n",
    "5 \\\\\n",
    "2\n",
    "\\end{bmatrix}$\n",
    "in my world having basis vectors $\\begin{bmatrix}\n",
    "1 \\\\\n",
    "0\n",
    "\\end{bmatrix}$ & $\\begin{bmatrix}\n",
    "0 \\\\\n",
    "1\n",
    "\\end{bmatrix}$.\n",
    "\n",
    "\n",
    "But my cat says this vector in it's world is represented as $\\vec catVector = \\begin{bmatrix}\n",
    "\\frac{3}{2} \\\\\n",
    "\\frac{1}{2}\n",
    "\\end{bmatrix}$.\n",
    "\n",
    "This is the case when the same vector is having different representions in the different worlds of perspective having different basis vectors.\n",
    "\n",
    "Let A be the matrix having my basis vectors $\\begin{bmatrix}\n",
    "\\vec V_1 & \\vec V_2\n",
    "\\end{bmatrix}$ as $\\begin{bmatrix}\n",
    "1 & 0\\\\\n",
    "0 & 1\n",
    "\\end{bmatrix}$\n",
    "and B be the matrix having cat's basis vector in my world $\\begin{bmatrix}\n",
    "\\vec C_1 & \\vec C_2\n",
    "\\end{bmatrix}$ as $\\begin{bmatrix}\n",
    "3& 1\\\\\n",
    "1& 1\n",
    "\\end{bmatrix}$\n",
    "\n"
   ]
  },
  {
   "cell_type": "markdown",
   "metadata": {},
   "source": [
    "So to get the vector $\\vec ourVector$ $\\begin{bmatrix}\n",
    "5 \\\\\n",
    "2\n",
    "\\end{bmatrix}$ in cats's world we use the relation, $B^{-1} \\cdot \\vec ourVector = \\begin{bmatrix}\n",
    "3& 1\\\\\n",
    "1& 1\n",
    "\\end{bmatrix}^{-1}\\begin{bmatrix}\n",
    "5 \\\\\n",
    "2\n",
    "\\end{bmatrix} = \\vec catsVector$"
   ]
  },
  {
   "cell_type": "markdown",
   "metadata": {},
   "source": [
    "## Example\n",
    "\n",
    "In this exercise we will change the basis (2D Matrix) from our world to the cat's world."
   ]
  },
  {
   "cell_type": "code",
   "execution_count": null,
   "metadata": {},
   "outputs": [],
   "source": [
    "#Declarations.\n",
    "#Run this cell first to load all the dependencies.\n",
    "import numpy as np\n",
    "import numpy.linalg as la\n",
    "import matplotlib.pyplot as plt"
   ]
  },
  {
   "cell_type": "code",
   "execution_count": null,
   "metadata": {},
   "outputs": [],
   "source": [
    "B = np.array([[3,1],\n",
    "              [1,1]])\n",
    "V = np.array([[5],\n",
    "              [2]])\n",
    "\n",
    "\n",
    "catVector = la.inv(B)@V\n",
    "\n",
    "print(\"The Cat's Vector is\")\n",
    "catVector"
   ]
  },
  {
   "cell_type": "markdown",
   "metadata": {},
   "source": [
    "To get vector $\\vec ourVector$ in our representation (i.e. Our World) from the vector $\\vec catsVector$ in cat's world, we use the relation,\n",
    "\n",
    "$B \\cdot \\vec catsVector = \n",
    "\\begin{bmatrix}\n",
    "3& 1\\\\\n",
    "1& 1\n",
    "\\end{bmatrix} \\begin{bmatrix}\n",
    "\\frac{3}{2} \\\\\n",
    "\\frac{1}{2}\n",
    "\\end{bmatrix}$ = $\\vec ourVector$"
   ]
  },
  {
   "cell_type": "code",
   "execution_count": null,
   "metadata": {},
   "outputs": [],
   "source": [
    "B = np.array([[3,1],\n",
    "              [1,1]])\n",
    "V = np.array([[1.5],\n",
    "              [0.5]])\n",
    "\n",
    "ourVector = B@V\n",
    "\n",
    "print(\"The Vector in our world is\")\n",
    "ourVector"
   ]
  },
  {
   "cell_type": "markdown",
   "metadata": {},
   "source": [
    "## Applying Transformation"
   ]
  },
  {
   "cell_type": "code",
   "execution_count": null,
   "metadata": {},
   "outputs": [],
   "source": [
    "smallNumber = 1e-14 #Declaring Very Small Number\n",
    "\n",
    "def getBasis(A):\n",
    "    B = np.array(A, dtype = float) #Makes a Copy of Input Matrix, as we are going to alter its value.\n",
    "    \n",
    "    #Loop over all vectors with label i. \n",
    "    for i in range(B.shape[1]):\n",
    "        #Loop over all previous vectors j to subtract. \n",
    "        for j in range(i):\n",
    "            #The Current Vector B[:,i] and the previous vector B[:,j].\n",
    "            B[:,i] = B[:,i] - (B[:,i]@B[:,j])*B[:,j]\n",
    "        \n",
    "        #If the vector is greater than smallNumber than,we normalize it. Otherwise we set the vector to zero. \n",
    "        if la.norm(B[:,i]) > smallNumber:\n",
    "            B[:,i] = B[:,i]/la.norm(B[:,i])\n",
    "        else:\n",
    "            B[:,i] = np.zeros_like(B[:,i])  \n",
    "            \n",
    "    #Finally, we return the results        \n",
    "    return B \n",
    "\n",
    "\n",
    "\n",
    "def buildReflectionMatrix(A):\n",
    "    \n",
    "    E = getBasis(A)\n",
    "    \n",
    "    TE = np.array([[1,0],[0,-1]])\n",
    "    \n",
    "    T = E @ TE @ np.transpose(E)\n",
    "    \n",
    "    return T\n",
    "\n",
    "def plot(A,B):\n",
    "    Vec = np.array(A, dtype = float) #Original Vector Sets.\n",
    "    ONor = np.array(B, dtype = float) #Orthonormal Vector Sets.\n",
    "    \n",
    "    #Origin Points.\n",
    "    X = np.array((0))\n",
    "    Y= np.array((0))\n",
    "    \n",
    "    #Cat Basis1.\n",
    "    U = A[0,0]\n",
    "    V = A[1,0]\n",
    "    \n",
    "    q1 = plt.quiver(X, Y, U, V,color='r',units='xy' ,scale=1)#Drawing First Vector.\n",
    "    \n",
    "    #Limits For Graph.\n",
    "    plt.xlim(-5,5)\n",
    "    plt.ylim(-5,5)\n",
    "    plt.quiverkey(q1, 3, 3, 2, 'Cat Basis1', coordinates='data')\n",
    "    \n",
    "    #Cat Basis2.\n",
    "    U = A[0,1]\n",
    "    V = A[1,1]\n",
    "    \n",
    "    q2 = plt.quiver(X, Y, U, V,color='y',units='xy' ,scale=1)#Drawing Second Vector.\n",
    "    plt.xlim(-5,5)\n",
    "    plt.ylim(-5,5)\n",
    "    \n",
    "    plt.quiverkey(q2, 3, 1, 2, 'Cat Basis2', coordinates='data')\n",
    "    \n",
    "    #Transformed Cat Basis1.\n",
    "    U = B[0,0]\n",
    "    V = B[1,0]\n",
    "    \n",
    "    q3 = plt.quiver(X, Y, U, V,color='b',units='xy' ,scale=1)#Drawing First Orthonormal Vector.\n",
    "    plt.xlim(-5,5)\n",
    "    plt.ylim(-5,5)\n",
    "    plt.quiverkey(q3, 3, -1, 2, 'Transformed Cat Basis1', coordinates='data')\n",
    "\n",
    "    \n",
    "    \n",
    "    #Transformed Cat Basis2.\n",
    "    U = B[0,1]\n",
    "    V = B[1,1]\n",
    "    \n",
    "    q4 = plt.quiver(X, Y, U, V,color='g',units='xy' ,scale=1)#Drawing Second Orthonormal Vector.\n",
    "    plt.xlim(-5,5)\n",
    "    plt.ylim(-5,5)\n",
    "    \n",
    "    plt.quiverkey(q4, 3, -3, 2, 'Transformed Cat Basis2', coordinates='data')\n",
    "    \n",
    "    #Label.\n",
    "    plt.legend(bbox_to_anchor=(2, 1.05), handles = [q1,q2,q3,q4], \n",
    "           labels  = [A[:,0], B[:,0], A[:,1], B[:,1]])\n",
    "    \n",
    "    \n",
    "    plt.xlabel('X axis')\n",
    "    plt.ylabel('Y axis')\n",
    "    plt.title('Change of Basis')\n",
    "    plt.show()\n"
   ]
  },
  {
   "cell_type": "code",
   "execution_count": null,
   "metadata": {},
   "outputs": [],
   "source": [
    "catBasis = np.array([[1,-1],\n",
    "                     [1.5,2]])\n",
    "\n",
    "T = buildReflectionMatrix(catBasis)\n",
    "plot(catBasis,T)"
   ]
  },
  {
   "cell_type": "code",
   "execution_count": null,
   "metadata": {},
   "outputs": [],
   "source": []
  }
 ],
 "metadata": {
  "kernelspec": {
   "display_name": "Python 3",
   "language": "python",
   "name": "python3"
  },
  "language_info": {
   "codemirror_mode": {
    "name": "ipython",
    "version": 3
   },
   "file_extension": ".py",
   "mimetype": "text/x-python",
   "name": "python",
   "nbconvert_exporter": "python",
   "pygments_lexer": "ipython3",
   "version": "3.7.4"
  }
 },
 "nbformat": 4,
 "nbformat_minor": 4
}
